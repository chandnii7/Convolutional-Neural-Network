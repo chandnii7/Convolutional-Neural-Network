{
 "cells": [
  {
   "cell_type": "markdown",
   "metadata": {
    "id": "wGL0EUcsIrWe"
   },
   "source": [
    "######Name: Chandni Patel\n",
    "######ID: A20455322\n",
    "######CS 512 - Fall 2020"
   ]
  },
  {
   "cell_type": "code",
   "execution_count": 1,
   "metadata": {
    "id": "pOp5fbpmpTAG"
   },
   "outputs": [],
   "source": [
    "import numpy as np\n",
    "import tensorflow as tf\n",
    "import keras\n",
    "from keras import models\n",
    "from keras import layers\n",
    "from keras.layers import BatchNormalization\n",
    "from keras.layers import LayerNormalization\n",
    "from keras.datasets import mnist\n",
    "from keras.utils import to_categorical\n",
    "from sklearn.model_selection import train_test_split\n",
    "from matplotlib import pyplot as plt\n",
    "from matplotlib.pylab import imshow\n",
    "import matplotlib.cm as cm\n",
    "import cv2\n",
    "from google.colab import files\n",
    "from google.colab.patches import cv2_imshow\n"
   ]
  },
  {
   "cell_type": "markdown",
   "metadata": {
    "id": "rlffbcRrmBvT"
   },
   "source": [
    "#Data"
   ]
  },
  {
   "cell_type": "code",
   "execution_count": 2,
   "metadata": {
    "colab": {
     "base_uri": "https://localhost:8080/"
    },
    "id": "UEdeNN_Pl2vJ",
    "outputId": "36cc343b-1681-4ce9-80e0-a2b4d75c1f38"
   },
   "outputs": [
    {
     "name": "stdout",
     "output_type": "stream",
     "text": [
      "Train:  55000 \n",
      "Validation:  10000 \n",
      "Test:  5000\n"
     ]
    }
   ],
   "source": [
    "#load data\n",
    "(images, labels), (val_images, val_labels) = mnist.load_data()\n",
    "\n",
    "#split into train, validation & test\n",
    "train_images, test_images, train_labels, test_labels = train_test_split(images, labels, test_size=0.08333)\n",
    "train_images = train_images.reshape((55000,28,28,1))\n",
    "train_images = train_images.astype('float32') / 255\n",
    "val_images = val_images.reshape((10000,28,28,1))\n",
    "val_images = val_images.astype('float32') / 255\n",
    "test_images = test_images.reshape((5000,28,28,1))\n",
    "test_images = test_images.astype('float32') / 255\n",
    "print(\"Train: \", train_images.shape[0], \"\\nValidation: \", val_images.shape[0], \"\\nTest: \", test_images.shape[0])\n"
   ]
  },
  {
   "cell_type": "code",
   "execution_count": 3,
   "metadata": {
    "id": "b9RNqLLG0PZS"
   },
   "outputs": [],
   "source": [
    "#function to convert labels to odd/even\n",
    "def GetOddEvenLabels(digitlabels):\n",
    "  oddeven = []\n",
    "  for l in digitlabels:\n",
    "    if l%2 == 0:\n",
    "      oddeven.append(0)\n",
    "    else:\n",
    "      oddeven.append(1)\n",
    "  return oddeven\n",
    "  "
   ]
  },
  {
   "cell_type": "code",
   "execution_count": 4,
   "metadata": {
    "id": "C3mKeimjl6Qv"
   },
   "outputs": [],
   "source": [
    "#convert labels to odd/even\n",
    "train_labels_oddeven = to_categorical(GetOddEvenLabels(train_labels))\n",
    "val_labels_oddeven = to_categorical(GetOddEvenLabels(val_labels))\n",
    "test_labels_oddeven = to_categorical(GetOddEvenLabels(test_labels))\n"
   ]
  },
  {
   "cell_type": "code",
   "execution_count": 5,
   "metadata": {
    "colab": {
     "base_uri": "https://localhost:8080/"
    },
    "id": "v8k3gA_Gl8w7",
    "outputId": "5183257c-fb14-4bfb-fee6-c12127a108f4"
   },
   "outputs": [
    {
     "name": "stdout",
     "output_type": "stream",
     "text": [
      "Original Label 2\n",
      "Odd/Even Label [1. 0.]\n",
      "Original Label 7\n",
      "Odd/Even Label [0. 1.]\n"
     ]
    }
   ],
   "source": [
    "#print samples to check labels\n",
    "sample = 7\n",
    "data = train_images[sample]\n",
    "print(\"Original Label\",train_labels[sample])\n",
    "print(\"Odd/Even Label\",train_labels_oddeven[sample])\n",
    "sample = 70\n",
    "data = train_images[sample]\n",
    "print(\"Original Label\",train_labels[sample])\n",
    "print(\"Odd/Even Label\",train_labels_oddeven[sample])\n"
   ]
  },
  {
   "cell_type": "markdown",
   "metadata": {
    "id": "WuamdyArITJs"
   },
   "source": [
    "#Construct and train CNN"
   ]
  },
  {
   "cell_type": "code",
   "execution_count": 6,
   "metadata": {
    "colab": {
     "base_uri": "https://localhost:8080/"
    },
    "id": "QlX3WaTuCOET",
    "outputId": "d318f503-c0bc-496b-aac4-f13c2ebb8d0e"
   },
   "outputs": [
    {
     "name": "stdout",
     "output_type": "stream",
     "text": [
      "Model: \"sequential\"\n",
      "_________________________________________________________________\n",
      "Layer (type)                 Output Shape              Param #   \n",
      "=================================================================\n",
      "conv2d (Conv2D)              (None, 26, 26, 32)        320       \n",
      "_________________________________________________________________\n",
      "max_pooling2d (MaxPooling2D) (None, 13, 13, 32)        0         \n",
      "_________________________________________________________________\n",
      "conv2d_1 (Conv2D)            (None, 11, 11, 64)        18496     \n",
      "_________________________________________________________________\n",
      "max_pooling2d_1 (MaxPooling2 (None, 5, 5, 64)          0         \n",
      "_________________________________________________________________\n",
      "conv2d_2 (Conv2D)            (None, 3, 3, 64)          36928     \n",
      "_________________________________________________________________\n",
      "dropout (Dropout)            (None, 3, 3, 64)          0         \n",
      "_________________________________________________________________\n",
      "flatten (Flatten)            (None, 576)               0         \n",
      "_________________________________________________________________\n",
      "dense (Dense)                (None, 64)                36928     \n",
      "_________________________________________________________________\n",
      "dense_1 (Dense)              (None, 2)                 130       \n",
      "=================================================================\n",
      "Total params: 92,802\n",
      "Trainable params: 92,802\n",
      "Non-trainable params: 0\n",
      "_________________________________________________________________\n"
     ]
    }
   ],
   "source": [
    "#model\n",
    "cnn = models.Sequential()\n",
    "\n",
    "#two convolution layers with pooling\n",
    "cnn.add(layers.Conv2D(32,(3,3), activation = 'relu', input_shape = (28,28,1)))\n",
    "cnn.add(layers.MaxPooling2D((2,2)))\n",
    "cnn.add(layers.Conv2D(64,(3,3), activation = 'relu'))\n",
    "cnn.add(layers.MaxPooling2D((2,2)))\n",
    "cnn.add(layers.Conv2D(64,(3,3), activation = 'relu'))\n",
    "\n",
    "#dropout layer\n",
    "cnn.add(layers.Dropout(0.3))\n",
    "\n",
    "#flatten\n",
    "cnn.add(layers.Flatten())\n",
    "\n",
    "#two fully connected layers\n",
    "cnn.add(layers.Dense(64,activation='relu'))\n",
    "cnn.add(layers.Dense(2,activation='sigmoid'))\n",
    "\n",
    "#summary\n",
    "cnn.summary()\n"
   ]
  },
  {
   "cell_type": "code",
   "execution_count": 7,
   "metadata": {
    "colab": {
     "base_uri": "https://localhost:8080/"
    },
    "id": "Pyhvns3xFqd7",
    "outputId": "919b8a21-b304-4238-a306-ed4d82d5ff6b"
   },
   "outputs": [
    {
     "name": "stdout",
     "output_type": "stream",
     "text": [
      "Epoch 1/5\n",
      "860/860 [==============================] - 48s 55ms/step - loss: 0.5138 - accuracy: 0.7741 - val_loss: 0.3059 - val_accuracy: 0.8723\n",
      "Epoch 2/5\n",
      "860/860 [==============================] - 48s 55ms/step - loss: 0.2616 - accuracy: 0.8944 - val_loss: 0.1713 - val_accuracy: 0.9367\n",
      "Epoch 3/5\n",
      "860/860 [==============================] - 48s 55ms/step - loss: 0.1683 - accuracy: 0.9377 - val_loss: 0.1235 - val_accuracy: 0.9553\n",
      "Epoch 4/5\n",
      "860/860 [==============================] - 48s 56ms/step - loss: 0.1211 - accuracy: 0.9566 - val_loss: 0.0796 - val_accuracy: 0.9721\n",
      "Epoch 5/5\n",
      "860/860 [==============================] - 48s 56ms/step - loss: 0.0971 - accuracy: 0.9658 - val_loss: 0.0635 - val_accuracy: 0.9784\n"
     ]
    }
   ],
   "source": [
    "#select Loss function, Optimization algorithm & Evalution metrix\n",
    "cnn.compile(optimizer='sgd', loss=tf.keras.losses.BinaryCrossentropy(), metrics=['accuracy'])\n",
    "train_results = cnn.fit(train_images, train_labels_oddeven, epochs=5\n",
    "                  , batch_size=64, validation_data=(val_images,val_labels_oddeven))\n"
   ]
  },
  {
   "cell_type": "code",
   "execution_count": 8,
   "metadata": {
    "colab": {
     "base_uri": "https://localhost:8080/"
    },
    "id": "-J9DcU4aGqAI",
    "outputId": "39b42a91-d84a-4f81-91c0-24fbe6af06dc"
   },
   "outputs": [
    {
     "name": "stdout",
     "output_type": "stream",
     "text": [
      "157/157 [==============================] - 2s 10ms/step - loss: 0.0765 - accuracy: 0.9720\n"
     ]
    }
   ],
   "source": [
    "#train the network and record loss and accuracy\n",
    "test_loss, test_accuracy = cnn.evaluate(test_images, test_labels_oddeven)\n"
   ]
  },
  {
   "cell_type": "code",
   "execution_count": 9,
   "metadata": {
    "id": "MNwKqRLCH7Za"
   },
   "outputs": [],
   "source": [
    "#function to plot training and validation loss and accuracy\n",
    "def GetLossAccuracyPlot():\n",
    "  #plot loss\n",
    "  plt.subplot(1, 2, 1)\n",
    "  plt.plot(train_results.history['loss'])\n",
    "  plt.plot(train_results.history['val_loss'])\n",
    "  plt.title('Training & Validation loss')\n",
    "  plt.xlabel('Epoch')\n",
    "  plt.ylabel('Loss')\n",
    "  plt.legend(['Training', 'Validation'])\n",
    "\n",
    "  #plot accuracy\n",
    "  plt.subplot(1, 2, 2)\n",
    "  plt.plot(train_results.history['accuracy'])\n",
    "  plt.plot(train_results.history['val_accuracy'])\n",
    "  plt.title('Training & Validation Accuracy')\n",
    "  plt.xlabel('Epoch')\n",
    "  plt.ylabel('Accuracy')\n",
    "  plt.legend(['Training', 'Validation'])\n"
   ]
  },
  {
   "cell_type": "code",
   "execution_count": 10,
   "metadata": {
    "colab": {
     "base_uri": "https://localhost:8080/",
     "height": 295
    },
    "id": "93Q8jfmwH_4-",
    "outputId": "1da98af9-57ae-4966-cb7e-70acf2c0e9a4"
   },
   "outputs": [
    {
     "data": {
      "image/png": "[encoded data removed]",
      "text/plain": [
       "<Figure size 432x288 with 2 Axes>"
      ]
     },
     "metadata": {
      "needs_background": "light",
      "tags": []
     },
     "output_type": "display_data"
    }
   ],
   "source": [
    "#plot training and validation results\n",
    "GetLossAccuracyPlot()\n"
   ]
  },
  {
   "cell_type": "markdown",
   "metadata": {
    "id": "h8wxLhqRM1qp"
   },
   "source": [
    "#Hyper-parameter Tuning"
   ]
  },
  {
   "cell_type": "markdown",
   "metadata": {
    "id": "40szM0_pkn_g"
   },
   "source": [
    "####Changing the network architecture"
   ]
  },
  {
   "cell_type": "code",
   "execution_count": 11,
   "metadata": {
    "colab": {
     "base_uri": "https://localhost:8080/"
    },
    "id": "4r_6l0njmy3K",
    "outputId": "4fc3d6f8-a8a2-4610-d9ba-d72c1395c292"
   },
   "outputs": [
    {
     "name": "stdout",
     "output_type": "stream",
     "text": [
      "Model: \"sequential_1\"\n",
      "_________________________________________________________________\n",
      "Layer (type)                 Output Shape              Param #   \n",
      "=================================================================\n",
      "conv2d_3 (Conv2D)            (None, 26, 26, 64)        640       \n",
      "_________________________________________________________________\n",
      "max_pooling2d_2 (MaxPooling2 (None, 13, 13, 64)        0         \n",
      "_________________________________________________________________\n",
      "conv2d_4 (Conv2D)            (None, 11, 11, 64)        36928     \n",
      "_________________________________________________________________\n",
      "dropout_1 (Dropout)          (None, 11, 11, 64)        0         \n",
      "_________________________________________________________________\n",
      "flatten_1 (Flatten)          (None, 7744)              0         \n",
      "_________________________________________________________________\n",
      "dense_2 (Dense)              (None, 64)                495680    \n",
      "_________________________________________________________________\n",
      "dense_3 (Dense)              (None, 32)                2080      \n",
      "_________________________________________________________________\n",
      "dense_4 (Dense)              (None, 16)                528       \n",
      "_________________________________________________________________\n",
      "dense_5 (Dense)              (None, 2)                 34        \n",
      "=================================================================\n",
      "Total params: 535,890\n",
      "Trainable params: 535,890\n",
      "Non-trainable params: 0\n",
      "_________________________________________________________________\n",
      "Epoch 1/5\n",
      "860/860 [==============================] - 79s 92ms/step - loss: 0.4546 - accuracy: 0.7991 - val_loss: 0.2996 - val_accuracy: 0.8781\n",
      "Epoch 2/5\n",
      "860/860 [==============================] - 79s 92ms/step - loss: 0.2249 - accuracy: 0.9126 - val_loss: 0.2136 - val_accuracy: 0.9109\n",
      "Epoch 3/5\n",
      "860/860 [==============================] - 78s 91ms/step - loss: 0.1224 - accuracy: 0.9559 - val_loss: 0.2315 - val_accuracy: 0.9060\n",
      "Epoch 4/5\n",
      "860/860 [==============================] - 78s 91ms/step - loss: 0.0885 - accuracy: 0.9684 - val_loss: 0.0643 - val_accuracy: 0.9775\n",
      "Epoch 5/5\n",
      "860/860 [==============================] - 79s 91ms/step - loss: 0.0727 - accuracy: 0.9741 - val_loss: 0.0478 - val_accuracy: 0.9838\n",
      "\n",
      "Test:\n",
      "157/157 [==============================] - 2s 13ms/step - loss: 0.0556 - accuracy: 0.9802\n"
     ]
    }
   ],
   "source": [
    "def CNN(dilation_value = 1, stride_value = 1\n",
    "        , optimizer_value = keras.optimizers.SGD()\n",
    "        , loss_function = 'binary_crossentropy', dropout_value = 0.3\n",
    "        , epoch_value = 5, weight_initializer = 'glorot_uniform'):\n",
    "  cnn = models.Sequential()\n",
    "  cnn.add(layers.Conv2D(64,(3,3), strides=stride_value, dilation_rate=dilation_value, activation = 'relu', input_shape = (28,28,1)))\n",
    "  cnn.add(layers.MaxPooling2D((2,2)))\n",
    "  cnn.add(layers.Conv2D(64,(3,3), strides=stride_value, dilation_rate=dilation_value, activation = 'relu'))\n",
    "  cnn.add(layers.Dropout(dropout_value))\n",
    "  cnn.add(layers.Flatten())\n",
    "  cnn.add(layers.Dense(64,activation='relu',kernel_initializer=weight_initializer))\n",
    "  cnn.add(layers.Dense(32,activation='relu',kernel_initializer=weight_initializer))\n",
    "  cnn.add(layers.Dense(16,activation='relu',kernel_initializer=weight_initializer))\n",
    "  cnn.add(layers.Dense(2,activation='sigmoid'))\n",
    "  cnn.summary()\n",
    "\n",
    "  cnn.compile(optimizer=optimizer_value, loss=loss_function, metrics=['accuracy'])\n",
    "  train_results = cnn.fit(train_images, train_labels_oddeven, epochs=epoch_value\n",
    "                    , batch_size=64, validation_data=(val_images,val_labels_oddeven))\n",
    "  print('\\nTest:')\n",
    "  test_loss, test_accuracy = cnn.evaluate(test_images, test_labels_oddeven)  \n",
    "\n",
    "#new network architecture\n",
    "CNN();"
   ]
  },
  {
   "cell_type": "markdown",
   "metadata": {
    "id": "ZXt0deM4NFkL"
   },
   "source": [
    "####Changing the receptive field"
   ]
  },
  {
   "cell_type": "code",
   "execution_count": 12,
   "metadata": {
    "colab": {
     "base_uri": "https://localhost:8080/"
    },
    "id": "vPufPLM8M5Gw",
    "outputId": "fa5e06a4-921e-4e4c-9be3-60659620f399"
   },
   "outputs": [
    {
     "name": "stdout",
     "output_type": "stream",
     "text": [
      "\n",
      "\n",
      "dilation_rate =  2\n",
      "Model: \"sequential_2\"\n",
      "_________________________________________________________________\n",
      "Layer (type)                 Output Shape              Param #   \n",
      "=================================================================\n",
      "conv2d_5 (Conv2D)            (None, 24, 24, 64)        640       \n",
      "_________________________________________________________________\n",
      "max_pooling2d_3 (MaxPooling2 (None, 12, 12, 64)        0         \n",
      "_________________________________________________________________\n",
      "conv2d_6 (Conv2D)            (None, 8, 8, 64)          36928     \n",
      "_________________________________________________________________\n",
      "dropout_2 (Dropout)          (None, 8, 8, 64)          0         \n",
      "_________________________________________________________________\n",
      "flatten_2 (Flatten)          (None, 4096)              0         \n",
      "_________________________________________________________________\n",
      "dense_6 (Dense)              (None, 64)                262208    \n",
      "_________________________________________________________________\n",
      "dense_7 (Dense)              (None, 32)                2080      \n",
      "_________________________________________________________________\n",
      "dense_8 (Dense)              (None, 16)                528       \n",
      "_________________________________________________________________\n",
      "dense_9 (Dense)              (None, 2)                 34        \n",
      "=================================================================\n",
      "Total params: 302,418\n",
      "Trainable params: 302,418\n",
      "Non-trainable params: 0\n",
      "_________________________________________________________________\n",
      "Epoch 1/5\n",
      "860/860 [==============================] - 65s 76ms/step - loss: 0.5533 - accuracy: 0.7830 - val_loss: 0.3246 - val_accuracy: 0.8614\n",
      "Epoch 2/5\n",
      "860/860 [==============================] - 65s 75ms/step - loss: 0.2731 - accuracy: 0.8886 - val_loss: 0.1744 - val_accuracy: 0.9348\n",
      "Epoch 3/5\n",
      "860/860 [==============================] - 64s 75ms/step - loss: 0.1537 - accuracy: 0.9441 - val_loss: 0.0962 - val_accuracy: 0.9673\n",
      "Epoch 4/5\n",
      "860/860 [==============================] - 64s 75ms/step - loss: 0.1006 - accuracy: 0.9655 - val_loss: 0.0968 - val_accuracy: 0.9657\n",
      "Epoch 5/5\n",
      "860/860 [==============================] - 63s 74ms/step - loss: 0.0781 - accuracy: 0.9727 - val_loss: 0.0556 - val_accuracy: 0.9803\n",
      "\n",
      "Test:\n",
      "157/157 [==============================] - 2s 13ms/step - loss: 0.0657 - accuracy: 0.9768\n",
      "\n",
      "\n",
      "dilation_rate =  3\n",
      "Model: \"sequential_3\"\n",
      "_________________________________________________________________\n",
      "Layer (type)                 Output Shape              Param #   \n",
      "=================================================================\n",
      "conv2d_7 (Conv2D)            (None, 22, 22, 64)        640       \n",
      "_________________________________________________________________\n",
      "max_pooling2d_4 (MaxPooling2 (None, 11, 11, 64)        0         \n",
      "_________________________________________________________________\n",
      "conv2d_8 (Conv2D)            (None, 5, 5, 64)          36928     \n",
      "_________________________________________________________________\n",
      "dropout_3 (Dropout)          (None, 5, 5, 64)          0         \n",
      "_________________________________________________________________\n",
      "flatten_3 (Flatten)          (None, 1600)              0         \n",
      "_________________________________________________________________\n",
      "dense_10 (Dense)             (None, 64)                102464    \n",
      "_________________________________________________________________\n",
      "dense_11 (Dense)             (None, 32)                2080      \n",
      "_________________________________________________________________\n",
      "dense_12 (Dense)             (None, 16)                528       \n",
      "_________________________________________________________________\n",
      "dense_13 (Dense)             (None, 2)                 34        \n",
      "=================================================================\n",
      "Total params: 142,674\n",
      "Trainable params: 142,674\n",
      "Non-trainable params: 0\n",
      "_________________________________________________________________\n",
      "Epoch 1/5\n",
      "860/860 [==============================] - 53s 61ms/step - loss: 0.5659 - accuracy: 0.7164 - val_loss: 0.3579 - val_accuracy: 0.8610\n",
      "Epoch 2/5\n",
      "860/860 [==============================] - 53s 61ms/step - loss: 0.2926 - accuracy: 0.8810 - val_loss: 0.2102 - val_accuracy: 0.9213\n",
      "Epoch 3/5\n",
      "860/860 [==============================] - 53s 61ms/step - loss: 0.1767 - accuracy: 0.9335 - val_loss: 0.1234 - val_accuracy: 0.9556\n",
      "Epoch 4/5\n",
      "860/860 [==============================] - 54s 62ms/step - loss: 0.1253 - accuracy: 0.9543 - val_loss: 0.0921 - val_accuracy: 0.9686\n",
      "Epoch 5/5\n",
      "860/860 [==============================] - 53s 62ms/step - loss: 0.0956 - accuracy: 0.9666 - val_loss: 0.0774 - val_accuracy: 0.9714\n",
      "\n",
      "Test:\n",
      "157/157 [==============================] - 2s 12ms/step - loss: 0.0840 - accuracy: 0.9684\n"
     ]
    }
   ],
   "source": [
    "# dilation_rate ==> 2,3\n",
    "for i in range(2,4):\n",
    "  print(\"\\n\\ndilation_rate = \", i)\n",
    "  CNN(dilation_value = i)\n"
   ]
  },
  {
   "cell_type": "markdown",
   "metadata": {
    "id": "LbUAGEdsNuVr"
   },
   "source": [
    "####Changing the stride parameter"
   ]
  },
  {
   "cell_type": "code",
   "execution_count": 13,
   "metadata": {
    "colab": {
     "base_uri": "https://localhost:8080/"
    },
    "id": "ssRQw5VSNthr",
    "outputId": "ae7b1d9a-2289-41d4-9f0f-fe35de49dbc3"
   },
   "outputs": [
    {
     "name": "stdout",
     "output_type": "stream",
     "text": [
      "\n",
      "\n",
      "strides =  2\n",
      "Model: \"sequential_4\"\n",
      "_________________________________________________________________\n",
      "Layer (type)                 Output Shape              Param #   \n",
      "=================================================================\n",
      "conv2d_9 (Conv2D)            (None, 13, 13, 64)        640       \n",
      "_________________________________________________________________\n",
      "max_pooling2d_5 (MaxPooling2 (None, 6, 6, 64)          0         \n",
      "_________________________________________________________________\n",
      "conv2d_10 (Conv2D)           (None, 2, 2, 64)          36928     \n",
      "_________________________________________________________________\n",
      "dropout_4 (Dropout)          (None, 2, 2, 64)          0         \n",
      "_________________________________________________________________\n",
      "flatten_4 (Flatten)          (None, 256)               0         \n",
      "_________________________________________________________________\n",
      "dense_14 (Dense)             (None, 64)                16448     \n",
      "_________________________________________________________________\n",
      "dense_15 (Dense)             (None, 32)                2080      \n",
      "_________________________________________________________________\n",
      "dense_16 (Dense)             (None, 16)                528       \n",
      "_________________________________________________________________\n",
      "dense_17 (Dense)             (None, 2)                 34        \n",
      "=================================================================\n",
      "Total params: 56,658\n",
      "Trainable params: 56,658\n",
      "Non-trainable params: 0\n",
      "_________________________________________________________________\n",
      "Epoch 1/5\n",
      "860/860 [==============================] - 13s 15ms/step - loss: 0.6794 - accuracy: 0.6325 - val_loss: 0.6342 - val_accuracy: 0.7970\n",
      "Epoch 2/5\n",
      "860/860 [==============================] - 13s 15ms/step - loss: 0.4906 - accuracy: 0.8070 - val_loss: 0.3545 - val_accuracy: 0.8537\n",
      "Epoch 3/5\n",
      "860/860 [==============================] - 13s 15ms/step - loss: 0.3397 - accuracy: 0.8586 - val_loss: 0.2623 - val_accuracy: 0.8969\n",
      "Epoch 4/5\n",
      "860/860 [==============================] - 13s 15ms/step - loss: 0.2526 - accuracy: 0.9003 - val_loss: 0.2121 - val_accuracy: 0.9197\n",
      "Epoch 5/5\n",
      "860/860 [==============================] - 13s 15ms/step - loss: 0.1882 - accuracy: 0.9265 - val_loss: 0.1331 - val_accuracy: 0.9518\n",
      "\n",
      "Test:\n",
      "157/157 [==============================] - 0s 3ms/step - loss: 0.1347 - accuracy: 0.9514\n",
      "\n",
      "\n",
      "strides =  3\n",
      "Model: \"sequential_5\"\n",
      "_________________________________________________________________\n",
      "Layer (type)                 Output Shape              Param #   \n",
      "=================================================================\n",
      "conv2d_11 (Conv2D)           (None, 9, 9, 64)          640       \n",
      "_________________________________________________________________\n",
      "max_pooling2d_6 (MaxPooling2 (None, 4, 4, 64)          0         \n",
      "_________________________________________________________________\n",
      "conv2d_12 (Conv2D)           (None, 1, 1, 64)          36928     \n",
      "_________________________________________________________________\n",
      "dropout_5 (Dropout)          (None, 1, 1, 64)          0         \n",
      "_________________________________________________________________\n",
      "flatten_5 (Flatten)          (None, 64)                0         \n",
      "_________________________________________________________________\n",
      "dense_18 (Dense)             (None, 64)                4160      \n",
      "_________________________________________________________________\n",
      "dense_19 (Dense)             (None, 32)                2080      \n",
      "_________________________________________________________________\n",
      "dense_20 (Dense)             (None, 16)                528       \n",
      "_________________________________________________________________\n",
      "dense_21 (Dense)             (None, 2)                 34        \n",
      "=================================================================\n",
      "Total params: 44,370\n",
      "Trainable params: 44,370\n",
      "Non-trainable params: 0\n",
      "_________________________________________________________________\n",
      "Epoch 1/5\n",
      "860/860 [==============================] - 7s 9ms/step - loss: 0.6861 - accuracy: 0.5438 - val_loss: 0.6709 - val_accuracy: 0.6331\n",
      "Epoch 2/5\n",
      "860/860 [==============================] - 7s 8ms/step - loss: 0.6342 - accuracy: 0.6980 - val_loss: 0.5531 - val_accuracy: 0.7937\n",
      "Epoch 3/5\n",
      "860/860 [==============================] - 7s 8ms/step - loss: 0.5015 - accuracy: 0.7907 - val_loss: 0.4209 - val_accuracy: 0.8274\n",
      "Epoch 4/5\n",
      "860/860 [==============================] - 7s 8ms/step - loss: 0.3986 - accuracy: 0.8339 - val_loss: 0.3209 - val_accuracy: 0.8711\n",
      "Epoch 5/5\n",
      "860/860 [==============================] - 7s 8ms/step - loss: 0.3187 - accuracy: 0.8704 - val_loss: 0.2554 - val_accuracy: 0.9024\n",
      "\n",
      "Test:\n",
      "157/157 [==============================] - 0s 2ms/step - loss: 0.2645 - accuracy: 0.8974\n"
     ]
    }
   ],
   "source": [
    "# strides ==> 2,3\n",
    "for i in range(2,4):\n",
    "  print(\"\\n\\nstrides = \", i)\n",
    "  CNN(stride_value = i)\n"
   ]
  },
  {
   "cell_type": "markdown",
   "metadata": {
    "id": "1FdPRKqZPVyg"
   },
   "source": [
    "####Changing the optimizer"
   ]
  },
  {
   "cell_type": "code",
   "execution_count": 17,
   "metadata": {
    "colab": {
     "base_uri": "https://localhost:8080/"
    },
    "id": "D0lBiwXfKJ4q",
    "outputId": "697dc7d7-32c8-4ada-ef2a-b27b6607d15d"
   },
   "outputs": [
    {
     "name": "stdout",
     "output_type": "stream",
     "text": [
      "optimizer = adam\n",
      "Model: \"sequential_11\"\n",
      "_________________________________________________________________\n",
      "Layer (type)                 Output Shape              Param #   \n",
      "=================================================================\n",
      "conv2d_23 (Conv2D)           (None, 26, 26, 64)        640       \n",
      "_________________________________________________________________\n",
      "max_pooling2d_12 (MaxPooling (None, 13, 13, 64)        0         \n",
      "_________________________________________________________________\n",
      "conv2d_24 (Conv2D)           (None, 11, 11, 64)        36928     \n",
      "_________________________________________________________________\n",
      "dropout_11 (Dropout)         (None, 11, 11, 64)        0         \n",
      "_________________________________________________________________\n",
      "flatten_11 (Flatten)         (None, 7744)              0         \n",
      "_________________________________________________________________\n",
      "dense_42 (Dense)             (None, 64)                495680    \n",
      "_________________________________________________________________\n",
      "dense_43 (Dense)             (None, 32)                2080      \n",
      "_________________________________________________________________\n",
      "dense_44 (Dense)             (None, 16)                528       \n",
      "_________________________________________________________________\n",
      "dense_45 (Dense)             (None, 2)                 34        \n",
      "=================================================================\n",
      "Total params: 535,890\n",
      "Trainable params: 535,890\n",
      "Non-trainable params: 0\n",
      "_________________________________________________________________\n",
      "Epoch 1/5\n",
      "860/860 [==============================] - 79s 92ms/step - loss: 0.0835 - accuracy: 0.9687 - val_loss: 0.0346 - val_accuracy: 0.9885\n",
      "Epoch 2/5\n",
      "860/860 [==============================] - 79s 92ms/step - loss: 0.0347 - accuracy: 0.9878 - val_loss: 0.0229 - val_accuracy: 0.9917\n",
      "Epoch 3/5\n",
      "860/860 [==============================] - 80s 93ms/step - loss: 0.0229 - accuracy: 0.9924 - val_loss: 0.0182 - val_accuracy: 0.9938\n",
      "Epoch 4/5\n",
      "860/860 [==============================] - 80s 93ms/step - loss: 0.0176 - accuracy: 0.9938 - val_loss: 0.0243 - val_accuracy: 0.9916\n",
      "Epoch 5/5\n",
      "860/860 [==============================] - 80s 93ms/step - loss: 0.0140 - accuracy: 0.9954 - val_loss: 0.0183 - val_accuracy: 0.9942\n",
      "\n",
      "Test:\n",
      "157/157 [==============================] - 2s 14ms/step - loss: 0.0260 - accuracy: 0.9910\n",
      "optimizer = rmsprop\n",
      "Model: \"sequential_12\"\n",
      "_________________________________________________________________\n",
      "Layer (type)                 Output Shape              Param #   \n",
      "=================================================================\n",
      "conv2d_25 (Conv2D)           (None, 26, 26, 64)        640       \n",
      "_________________________________________________________________\n",
      "max_pooling2d_13 (MaxPooling (None, 13, 13, 64)        0         \n",
      "_________________________________________________________________\n",
      "conv2d_26 (Conv2D)           (None, 11, 11, 64)        36928     \n",
      "_________________________________________________________________\n",
      "dropout_12 (Dropout)         (None, 11, 11, 64)        0         \n",
      "_________________________________________________________________\n",
      "flatten_12 (Flatten)         (None, 7744)              0         \n",
      "_________________________________________________________________\n",
      "dense_46 (Dense)             (None, 64)                495680    \n",
      "_________________________________________________________________\n",
      "dense_47 (Dense)             (None, 32)                2080      \n",
      "_________________________________________________________________\n",
      "dense_48 (Dense)             (None, 16)                528       \n",
      "_________________________________________________________________\n",
      "dense_49 (Dense)             (None, 2)                 34        \n",
      "=================================================================\n",
      "Total params: 535,890\n",
      "Trainable params: 535,890\n",
      "Non-trainable params: 0\n",
      "_________________________________________________________________\n",
      "Epoch 1/5\n",
      "860/860 [==============================] - 81s 94ms/step - loss: 0.0889 - accuracy: 0.9668 - val_loss: 0.0355 - val_accuracy: 0.9871\n",
      "Epoch 2/5\n",
      "860/860 [==============================] - 81s 95ms/step - loss: 0.0319 - accuracy: 0.9898 - val_loss: 0.0383 - val_accuracy: 0.9872\n",
      "Epoch 3/5\n",
      "860/860 [==============================] - 81s 94ms/step - loss: 0.0242 - accuracy: 0.9920 - val_loss: 0.0254 - val_accuracy: 0.9929\n",
      "Epoch 4/5\n",
      "860/860 [==============================] - 81s 94ms/step - loss: 0.0206 - accuracy: 0.9933 - val_loss: 0.0171 - val_accuracy: 0.9947\n",
      "Epoch 5/5\n",
      "860/860 [==============================] - 82s 96ms/step - loss: 0.0193 - accuracy: 0.9938 - val_loss: 0.0186 - val_accuracy: 0.9941\n",
      "\n",
      "Test:\n",
      "157/157 [==============================] - 2s 14ms/step - loss: 0.0236 - accuracy: 0.9932\n"
     ]
    }
   ],
   "source": [
    "# optimizer = adam, rmsprop\n",
    "print(\"optimizer = adam\")\n",
    "CNN(optimizer_value = keras.optimizers.Adam())\n",
    "print(\"optimizer = rmsprop\")\n",
    "CNN(optimizer_value = keras.optimizers.RMSprop())\n",
    "\n",
    "best_opt = keras.optimizers.Adam()\n"
   ]
  },
  {
   "cell_type": "markdown",
   "metadata": {
    "id": "YYj5MtUbSosk"
   },
   "source": [
    "####Changing the loss function"
   ]
  },
  {
   "cell_type": "code",
   "execution_count": 18,
   "metadata": {
    "colab": {
     "base_uri": "https://localhost:8080/"
    },
    "id": "Qe-lpX3EAiwQ",
    "outputId": "007589a8-fd97-4171-9cb2-6c5e9cf08cc3"
   },
   "outputs": [
    {
     "name": "stdout",
     "output_type": "stream",
     "text": [
      "loss = poisson\n",
      "Model: \"sequential_13\"\n",
      "_________________________________________________________________\n",
      "Layer (type)                 Output Shape              Param #   \n",
      "=================================================================\n",
      "conv2d_27 (Conv2D)           (None, 26, 26, 64)        640       \n",
      "_________________________________________________________________\n",
      "max_pooling2d_14 (MaxPooling (None, 13, 13, 64)        0         \n",
      "_________________________________________________________________\n",
      "conv2d_28 (Conv2D)           (None, 11, 11, 64)        36928     \n",
      "_________________________________________________________________\n",
      "dropout_13 (Dropout)         (None, 11, 11, 64)        0         \n",
      "_________________________________________________________________\n",
      "flatten_13 (Flatten)         (None, 7744)              0         \n",
      "_________________________________________________________________\n",
      "dense_50 (Dense)             (None, 64)                495680    \n",
      "_________________________________________________________________\n",
      "dense_51 (Dense)             (None, 32)                2080      \n",
      "_________________________________________________________________\n",
      "dense_52 (Dense)             (None, 16)                528       \n",
      "_________________________________________________________________\n",
      "dense_53 (Dense)             (None, 2)                 34        \n",
      "=================================================================\n",
      "Total params: 535,890\n",
      "Trainable params: 535,890\n",
      "Non-trainable params: 0\n",
      "_________________________________________________________________\n",
      "Epoch 1/5\n",
      "860/860 [==============================] - 85s 98ms/step - loss: 0.5415 - accuracy: 0.9699 - val_loss: 0.5164 - val_accuracy: 0.9892\n",
      "Epoch 2/5\n",
      "860/860 [==============================] - 81s 95ms/step - loss: 0.5152 - accuracy: 0.9903 - val_loss: 0.5137 - val_accuracy: 0.9919\n",
      "Epoch 3/5\n",
      "860/860 [==============================] - 80s 93ms/step - loss: 0.5103 - accuracy: 0.9928 - val_loss: 0.5122 - val_accuracy: 0.9933\n",
      "Epoch 4/5\n",
      "860/860 [==============================] - 80s 93ms/step - loss: 0.5080 - accuracy: 0.9943 - val_loss: 0.5094 - val_accuracy: 0.9939\n",
      "Epoch 5/5\n",
      "860/860 [==============================] - 80s 94ms/step - loss: 0.5068 - accuracy: 0.9953 - val_loss: 0.5095 - val_accuracy: 0.9940\n",
      "\n",
      "Test:\n",
      "157/157 [==============================] - 2s 14ms/step - loss: 0.5118 - accuracy: 0.9924\n",
      "loss = categorical_crossentropy\n",
      "Model: \"sequential_14\"\n",
      "_________________________________________________________________\n",
      "Layer (type)                 Output Shape              Param #   \n",
      "=================================================================\n",
      "conv2d_29 (Conv2D)           (None, 26, 26, 64)        640       \n",
      "_________________________________________________________________\n",
      "max_pooling2d_15 (MaxPooling (None, 13, 13, 64)        0         \n",
      "_________________________________________________________________\n",
      "conv2d_30 (Conv2D)           (None, 11, 11, 64)        36928     \n",
      "_________________________________________________________________\n",
      "dropout_14 (Dropout)         (None, 11, 11, 64)        0         \n",
      "_________________________________________________________________\n",
      "flatten_14 (Flatten)         (None, 7744)              0         \n",
      "_________________________________________________________________\n",
      "dense_54 (Dense)             (None, 64)                495680    \n",
      "_________________________________________________________________\n",
      "dense_55 (Dense)             (None, 32)                2080      \n",
      "_________________________________________________________________\n",
      "dense_56 (Dense)             (None, 16)                528       \n",
      "_________________________________________________________________\n",
      "dense_57 (Dense)             (None, 2)                 34        \n",
      "=================================================================\n",
      "Total params: 535,890\n",
      "Trainable params: 535,890\n",
      "Non-trainable params: 0\n",
      "_________________________________________________________________\n",
      "Epoch 1/5\n",
      "860/860 [==============================] - 81s 95ms/step - loss: 0.0717 - accuracy: 0.9734 - val_loss: 0.0228 - val_accuracy: 0.9932\n",
      "Epoch 2/5\n",
      "860/860 [==============================] - 81s 94ms/step - loss: 0.0260 - accuracy: 0.9909 - val_loss: 0.0232 - val_accuracy: 0.9915\n",
      "Epoch 3/5\n",
      "860/860 [==============================] - 81s 94ms/step - loss: 0.0180 - accuracy: 0.9938 - val_loss: 0.0175 - val_accuracy: 0.9940\n",
      "Epoch 4/5\n",
      "860/860 [==============================] - 81s 94ms/step - loss: 0.0147 - accuracy: 0.9947 - val_loss: 0.0183 - val_accuracy: 0.9950\n",
      "Epoch 5/5\n",
      "860/860 [==============================] - 81s 95ms/step - loss: 0.0115 - accuracy: 0.9962 - val_loss: 0.0190 - val_accuracy: 0.9940\n",
      "\n",
      "Test:\n",
      "157/157 [==============================] - 2s 14ms/step - loss: 0.0237 - accuracy: 0.9918\n"
     ]
    }
   ],
   "source": [
    "# loss = poisson, categorical_crossentropy\n",
    "print(\"loss = poisson\")\n",
    "CNN(optimizer_value = best_opt, loss_function = 'poisson')\n",
    "print(\"loss = categorical_crossentropy\")\n",
    "CNN(optimizer_value = best_opt, loss_function = 'categorical_crossentropy')\n"
   ]
  },
  {
   "cell_type": "markdown",
   "metadata": {
    "id": "Py5rpC97SWtr"
   },
   "source": [
    "####Changing the dropout parameter"
   ]
  },
  {
   "cell_type": "code",
   "execution_count": 19,
   "metadata": {
    "colab": {
     "base_uri": "https://localhost:8080/"
    },
    "id": "J-vf68tsDDrD",
    "outputId": "e682fa64-5d2c-4a53-bef9-6321e1a4cd37"
   },
   "outputs": [
    {
     "name": "stdout",
     "output_type": "stream",
     "text": [
      "dropout =  0.5\n",
      "Model: \"sequential_15\"\n",
      "_________________________________________________________________\n",
      "Layer (type)                 Output Shape              Param #   \n",
      "=================================================================\n",
      "conv2d_31 (Conv2D)           (None, 26, 26, 64)        640       \n",
      "_________________________________________________________________\n",
      "max_pooling2d_16 (MaxPooling (None, 13, 13, 64)        0         \n",
      "_________________________________________________________________\n",
      "conv2d_32 (Conv2D)           (None, 11, 11, 64)        36928     \n",
      "_________________________________________________________________\n",
      "dropout_15 (Dropout)         (None, 11, 11, 64)        0         \n",
      "_________________________________________________________________\n",
      "flatten_15 (Flatten)         (None, 7744)              0         \n",
      "_________________________________________________________________\n",
      "dense_58 (Dense)             (None, 64)                495680    \n",
      "_________________________________________________________________\n",
      "dense_59 (Dense)             (None, 32)                2080      \n",
      "_________________________________________________________________\n",
      "dense_60 (Dense)             (None, 16)                528       \n",
      "_________________________________________________________________\n",
      "dense_61 (Dense)             (None, 2)                 34        \n",
      "=================================================================\n",
      "Total params: 535,890\n",
      "Trainable params: 535,890\n",
      "Non-trainable params: 0\n",
      "_________________________________________________________________\n",
      "Epoch 1/5\n",
      "860/860 [==============================] - 80s 93ms/step - loss: 0.0730 - accuracy: 0.9729 - val_loss: 0.0291 - val_accuracy: 0.9909\n",
      "Epoch 2/5\n",
      "860/860 [==============================] - 80s 93ms/step - loss: 0.0308 - accuracy: 0.9904 - val_loss: 0.0219 - val_accuracy: 0.9929\n",
      "Epoch 3/5\n",
      "860/860 [==============================] - 80s 93ms/step - loss: 0.0241 - accuracy: 0.9920 - val_loss: 0.0196 - val_accuracy: 0.9932\n",
      "Epoch 4/5\n",
      "860/860 [==============================] - 82s 95ms/step - loss: 0.0180 - accuracy: 0.9940 - val_loss: 0.0200 - val_accuracy: 0.9937\n",
      "Epoch 5/5\n",
      "860/860 [==============================] - 81s 94ms/step - loss: 0.0161 - accuracy: 0.9943 - val_loss: 0.0185 - val_accuracy: 0.9935\n",
      "\n",
      "Test:\n",
      "157/157 [==============================] - 2s 14ms/step - loss: 0.0215 - accuracy: 0.9928\n",
      "dropout =  0.7\n",
      "Model: \"sequential_16\"\n",
      "_________________________________________________________________\n",
      "Layer (type)                 Output Shape              Param #   \n",
      "=================================================================\n",
      "conv2d_33 (Conv2D)           (None, 26, 26, 64)        640       \n",
      "_________________________________________________________________\n",
      "max_pooling2d_17 (MaxPooling (None, 13, 13, 64)        0         \n",
      "_________________________________________________________________\n",
      "conv2d_34 (Conv2D)           (None, 11, 11, 64)        36928     \n",
      "_________________________________________________________________\n",
      "dropout_16 (Dropout)         (None, 11, 11, 64)        0         \n",
      "_________________________________________________________________\n",
      "flatten_16 (Flatten)         (None, 7744)              0         \n",
      "_________________________________________________________________\n",
      "dense_62 (Dense)             (None, 64)                495680    \n",
      "_________________________________________________________________\n",
      "dense_63 (Dense)             (None, 32)                2080      \n",
      "_________________________________________________________________\n",
      "dense_64 (Dense)             (None, 16)                528       \n",
      "_________________________________________________________________\n",
      "dense_65 (Dense)             (None, 2)                 34        \n",
      "=================================================================\n",
      "Total params: 535,890\n",
      "Trainable params: 535,890\n",
      "Non-trainable params: 0\n",
      "_________________________________________________________________\n",
      "Epoch 1/5\n",
      "860/860 [==============================] - 80s 94ms/step - loss: 0.0939 - accuracy: 0.9646 - val_loss: 0.0331 - val_accuracy: 0.9888\n",
      "Epoch 2/5\n",
      "860/860 [==============================] - 82s 95ms/step - loss: 0.0421 - accuracy: 0.9851 - val_loss: 0.0228 - val_accuracy: 0.9931\n",
      "Epoch 3/5\n",
      "860/860 [==============================] - 81s 95ms/step - loss: 0.0320 - accuracy: 0.9890 - val_loss: 0.0200 - val_accuracy: 0.9935\n",
      "Epoch 4/5\n",
      "860/860 [==============================] - 81s 94ms/step - loss: 0.0286 - accuracy: 0.9902 - val_loss: 0.0198 - val_accuracy: 0.9934\n",
      "Epoch 5/5\n",
      "860/860 [==============================] - 81s 94ms/step - loss: 0.0239 - accuracy: 0.9919 - val_loss: 0.0175 - val_accuracy: 0.9940\n",
      "\n",
      "Test:\n",
      "157/157 [==============================] - 2s 14ms/step - loss: 0.0209 - accuracy: 0.9936\n"
     ]
    }
   ],
   "source": [
    "# dropout ==> 0.5,0.7\n",
    "dropout = [0.5,0.7]\n",
    "for i in range(0,len(dropout)):\n",
    "  print(\"dropout = \", dropout[i])\n",
    "  CNN(optimizer_value = best_opt, dropout_value = dropout[i])\n"
   ]
  },
  {
   "cell_type": "markdown",
   "metadata": {
    "id": "HYD7vTXlOrZY"
   },
   "source": [
    "####Changing the learning rate"
   ]
  },
  {
   "cell_type": "code",
   "execution_count": 20,
   "metadata": {
    "colab": {
     "base_uri": "https://localhost:8080/"
    },
    "id": "n_sfizrcOwAM",
    "outputId": "b343bc01-95c6-436e-d6aa-fbd7737ebf6c"
   },
   "outputs": [
    {
     "name": "stdout",
     "output_type": "stream",
     "text": [
      "learning_rate =  0.1\n",
      "Model: \"sequential_17\"\n",
      "_________________________________________________________________\n",
      "Layer (type)                 Output Shape              Param #   \n",
      "=================================================================\n",
      "conv2d_35 (Conv2D)           (None, 26, 26, 64)        640       \n",
      "_________________________________________________________________\n",
      "max_pooling2d_18 (MaxPooling (None, 13, 13, 64)        0         \n",
      "_________________________________________________________________\n",
      "conv2d_36 (Conv2D)           (None, 11, 11, 64)        36928     \n",
      "_________________________________________________________________\n",
      "dropout_17 (Dropout)         (None, 11, 11, 64)        0         \n",
      "_________________________________________________________________\n",
      "flatten_17 (Flatten)         (None, 7744)              0         \n",
      "_________________________________________________________________\n",
      "dense_66 (Dense)             (None, 64)                495680    \n",
      "_________________________________________________________________\n",
      "dense_67 (Dense)             (None, 32)                2080      \n",
      "_________________________________________________________________\n",
      "dense_68 (Dense)             (None, 16)                528       \n",
      "_________________________________________________________________\n",
      "dense_69 (Dense)             (None, 2)                 34        \n",
      "=================================================================\n",
      "Total params: 535,890\n",
      "Trainable params: 535,890\n",
      "Non-trainable params: 0\n",
      "_________________________________________________________________\n",
      "Epoch 1/5\n",
      "860/860 [==============================] - 79s 92ms/step - loss: 4.9326 - accuracy: 0.5034 - val_loss: 0.6932 - val_accuracy: 0.5074\n",
      "Epoch 2/5\n",
      "860/860 [==============================] - 79s 92ms/step - loss: 0.6947 - accuracy: 0.5001 - val_loss: 0.6932 - val_accuracy: 0.4926\n",
      "Epoch 3/5\n",
      "860/860 [==============================] - 79s 92ms/step - loss: 0.6944 - accuracy: 0.5011 - val_loss: 0.6936 - val_accuracy: 0.4926\n",
      "Epoch 4/5\n",
      "860/860 [==============================] - 79s 92ms/step - loss: 0.6944 - accuracy: 0.5014 - val_loss: 0.6937 - val_accuracy: 0.5074\n",
      "Epoch 5/5\n",
      "860/860 [==============================] - 80s 93ms/step - loss: 0.6944 - accuracy: 0.5021 - val_loss: 0.6934 - val_accuracy: 0.5074\n",
      "\n",
      "Test:\n",
      "157/157 [==============================] - 2s 14ms/step - loss: 0.6932 - accuracy: 0.5100\n",
      "learning_rate =  0.01\n",
      "Model: \"sequential_18\"\n",
      "_________________________________________________________________\n",
      "Layer (type)                 Output Shape              Param #   \n",
      "=================================================================\n",
      "conv2d_37 (Conv2D)           (None, 26, 26, 64)        640       \n",
      "_________________________________________________________________\n",
      "max_pooling2d_19 (MaxPooling (None, 13, 13, 64)        0         \n",
      "_________________________________________________________________\n",
      "conv2d_38 (Conv2D)           (None, 11, 11, 64)        36928     \n",
      "_________________________________________________________________\n",
      "dropout_18 (Dropout)         (None, 11, 11, 64)        0         \n",
      "_________________________________________________________________\n",
      "flatten_18 (Flatten)         (None, 7744)              0         \n",
      "_________________________________________________________________\n",
      "dense_70 (Dense)             (None, 64)                495680    \n",
      "_________________________________________________________________\n",
      "dense_71 (Dense)             (None, 32)                2080      \n",
      "_________________________________________________________________\n",
      "dense_72 (Dense)             (None, 16)                528       \n",
      "_________________________________________________________________\n",
      "dense_73 (Dense)             (None, 2)                 34        \n",
      "=================================================================\n",
      "Total params: 535,890\n",
      "Trainable params: 535,890\n",
      "Non-trainable params: 0\n",
      "_________________________________________________________________\n",
      "Epoch 1/5\n",
      "860/860 [==============================] - 80s 93ms/step - loss: 0.1214 - accuracy: 0.9527 - val_loss: 0.0403 - val_accuracy: 0.9864\n",
      "Epoch 2/5\n",
      "860/860 [==============================] - 80s 93ms/step - loss: 0.0513 - accuracy: 0.9827 - val_loss: 0.0301 - val_accuracy: 0.9910\n",
      "Epoch 3/5\n",
      "860/860 [==============================] - 80s 93ms/step - loss: 0.0398 - accuracy: 0.9869 - val_loss: 0.0222 - val_accuracy: 0.9926\n",
      "Epoch 4/5\n",
      "860/860 [==============================] - 81s 94ms/step - loss: 0.0380 - accuracy: 0.9867 - val_loss: 0.0295 - val_accuracy: 0.9926\n",
      "Epoch 5/5\n",
      "860/860 [==============================] - 80s 93ms/step - loss: 0.0333 - accuracy: 0.9894 - val_loss: 0.0225 - val_accuracy: 0.9935\n",
      "\n",
      "Test:\n",
      "157/157 [==============================] - 2s 14ms/step - loss: 0.0318 - accuracy: 0.9886\n"
     ]
    }
   ],
   "source": [
    "# learning_rate ==> 0.1, 0.01\n",
    "learning = [0.1, 0.01]\n",
    "for i in range(0,len(learning)):\n",
    "  print(\"learning_rate = \", learning[i])\n",
    "  CNN(optimizer_value = keras.optimizers.Adam(learning[i]))\n"
   ]
  },
  {
   "cell_type": "markdown",
   "metadata": {
    "id": "Zk8DnIEFkg44"
   },
   "source": [
    "####Using weight initializer"
   ]
  },
  {
   "cell_type": "code",
   "execution_count": 21,
   "metadata": {
    "colab": {
     "base_uri": "https://localhost:8080/"
    },
    "id": "ucAe15ickf-O",
    "outputId": "3d06e3d8-f35c-4343-9fdd-5159270d3bfb"
   },
   "outputs": [
    {
     "name": "stdout",
     "output_type": "stream",
     "text": [
      "kernel_initializer = he_uniform\n",
      "Model: \"sequential_19\"\n",
      "_________________________________________________________________\n",
      "Layer (type)                 Output Shape              Param #   \n",
      "=================================================================\n",
      "conv2d_39 (Conv2D)           (None, 26, 26, 64)        640       \n",
      "_________________________________________________________________\n",
      "max_pooling2d_20 (MaxPooling (None, 13, 13, 64)        0         \n",
      "_________________________________________________________________\n",
      "conv2d_40 (Conv2D)           (None, 11, 11, 64)        36928     \n",
      "_________________________________________________________________\n",
      "dropout_19 (Dropout)         (None, 11, 11, 64)        0         \n",
      "_________________________________________________________________\n",
      "flatten_19 (Flatten)         (None, 7744)              0         \n",
      "_________________________________________________________________\n",
      "dense_74 (Dense)             (None, 64)                495680    \n",
      "_________________________________________________________________\n",
      "dense_75 (Dense)             (None, 32)                2080      \n",
      "_________________________________________________________________\n",
      "dense_76 (Dense)             (None, 16)                528       \n",
      "_________________________________________________________________\n",
      "dense_77 (Dense)             (None, 2)                 34        \n",
      "=================================================================\n",
      "Total params: 535,890\n",
      "Trainable params: 535,890\n",
      "Non-trainable params: 0\n",
      "_________________________________________________________________\n",
      "Epoch 1/5\n",
      "860/860 [==============================] - 79s 92ms/step - loss: 0.0871 - accuracy: 0.9660 - val_loss: 0.0362 - val_accuracy: 0.9882\n",
      "Epoch 2/5\n",
      "860/860 [==============================] - 80s 93ms/step - loss: 0.0372 - accuracy: 0.9875 - val_loss: 0.0272 - val_accuracy: 0.9905\n",
      "Epoch 3/5\n",
      "860/860 [==============================] - 80s 94ms/step - loss: 0.0294 - accuracy: 0.9895 - val_loss: 0.0279 - val_accuracy: 0.9911\n",
      "Epoch 4/5\n",
      "860/860 [==============================] - 80s 94ms/step - loss: 0.0243 - accuracy: 0.9916 - val_loss: 0.0249 - val_accuracy: 0.9921\n",
      "Epoch 5/5\n",
      "860/860 [==============================] - 81s 94ms/step - loss: 0.0218 - accuracy: 0.9921 - val_loss: 0.0200 - val_accuracy: 0.9937\n",
      "\n",
      "Test:\n",
      "157/157 [==============================] - 2s 14ms/step - loss: 0.0224 - accuracy: 0.9920\n",
      "kernel_initializer = he_normal\n",
      "Model: \"sequential_20\"\n",
      "_________________________________________________________________\n",
      "Layer (type)                 Output Shape              Param #   \n",
      "=================================================================\n",
      "conv2d_41 (Conv2D)           (None, 26, 26, 64)        640       \n",
      "_________________________________________________________________\n",
      "max_pooling2d_21 (MaxPooling (None, 13, 13, 64)        0         \n",
      "_________________________________________________________________\n",
      "conv2d_42 (Conv2D)           (None, 11, 11, 64)        36928     \n",
      "_________________________________________________________________\n",
      "dropout_20 (Dropout)         (None, 11, 11, 64)        0         \n",
      "_________________________________________________________________\n",
      "flatten_20 (Flatten)         (None, 7744)              0         \n",
      "_________________________________________________________________\n",
      "dense_78 (Dense)             (None, 64)                495680    \n",
      "_________________________________________________________________\n",
      "dense_79 (Dense)             (None, 32)                2080      \n",
      "_________________________________________________________________\n",
      "dense_80 (Dense)             (None, 16)                528       \n",
      "_________________________________________________________________\n",
      "dense_81 (Dense)             (None, 2)                 34        \n",
      "=================================================================\n",
      "Total params: 535,890\n",
      "Trainable params: 535,890\n",
      "Non-trainable params: 0\n",
      "_________________________________________________________________\n",
      "Epoch 1/5\n",
      "860/860 [==============================] - 82s 96ms/step - loss: 0.0715 - accuracy: 0.9737 - val_loss: 0.0245 - val_accuracy: 0.9921\n",
      "Epoch 2/5\n",
      "860/860 [==============================] - 81s 94ms/step - loss: 0.0277 - accuracy: 0.9907 - val_loss: 0.0173 - val_accuracy: 0.9944\n",
      "Epoch 3/5\n",
      "860/860 [==============================] - 80s 93ms/step - loss: 0.0209 - accuracy: 0.9929 - val_loss: 0.0186 - val_accuracy: 0.9936\n",
      "Epoch 4/5\n",
      "860/860 [==============================] - 80s 93ms/step - loss: 0.0173 - accuracy: 0.9942 - val_loss: 0.0179 - val_accuracy: 0.9948\n",
      "Epoch 5/5\n",
      "860/860 [==============================] - 80s 93ms/step - loss: 0.0130 - accuracy: 0.9956 - val_loss: 0.0160 - val_accuracy: 0.9946\n",
      "\n",
      "Test:\n",
      "157/157 [==============================] - 2s 14ms/step - loss: 0.0207 - accuracy: 0.9946\n"
     ]
    }
   ],
   "source": [
    "# kernel_initializer = he_uniform, he_normal\n",
    "print(\"kernel_initializer = he_uniform\")\n",
    "CNN(optimizer_value = best_opt, weight_initializer = 'he_uniform')\n",
    "print(\"kernel_initializer = he_normal\")\n",
    "CNN(optimizer_value = best_opt, weight_initializer = 'he_normal')\n"
   ]
  },
  {
   "cell_type": "markdown",
   "metadata": {
    "id": "Nw8dGgOblgjx"
   },
   "source": [
    "####Adding batch normalization"
   ]
  },
  {
   "cell_type": "code",
   "execution_count": 22,
   "metadata": {
    "colab": {
     "base_uri": "https://localhost:8080/",
     "height": 1000
    },
    "id": "QAULLA8Dln1q",
    "outputId": "468e04cf-92b6-4241-870c-2e2746e7368f"
   },
   "outputs": [
    {
     "name": "stdout",
     "output_type": "stream",
     "text": [
      "Model: \"sequential_21\"\n",
      "_________________________________________________________________\n",
      "Layer (type)                 Output Shape              Param #   \n",
      "=================================================================\n",
      "conv2d_43 (Conv2D)           (None, 26, 26, 64)        640       \n",
      "_________________________________________________________________\n",
      "batch_normalization (BatchNo (None, 26, 26, 64)        256       \n",
      "_________________________________________________________________\n",
      "max_pooling2d_22 (MaxPooling (None, 13, 13, 64)        0         \n",
      "_________________________________________________________________\n",
      "batch_normalization_1 (Batch (None, 13, 13, 64)        256       \n",
      "_________________________________________________________________\n",
      "conv2d_44 (Conv2D)           (None, 11, 11, 64)        36928     \n",
      "_________________________________________________________________\n",
      "batch_normalization_2 (Batch (None, 11, 11, 64)        256       \n",
      "_________________________________________________________________\n",
      "dropout_21 (Dropout)         (None, 11, 11, 64)        0         \n",
      "_________________________________________________________________\n",
      "flatten_21 (Flatten)         (None, 7744)              0         \n",
      "_________________________________________________________________\n",
      "dense_82 (Dense)             (None, 64)                495680    \n",
      "_________________________________________________________________\n",
      "dense_83 (Dense)             (None, 32)                2080      \n",
      "_________________________________________________________________\n",
      "dense_84 (Dense)             (None, 16)                528       \n",
      "_________________________________________________________________\n",
      "dense_85 (Dense)             (None, 2)                 34        \n",
      "=================================================================\n",
      "Total params: 536,658\n",
      "Trainable params: 536,274\n",
      "Non-trainable params: 384\n",
      "_________________________________________________________________\n",
      "Epoch 1/5\n",
      "860/860 [==============================] - 115s 134ms/step - loss: 0.0735 - accuracy: 0.9748 - val_loss: 0.0357 - val_accuracy: 0.9887\n",
      "Epoch 2/5\n",
      "860/860 [==============================] - 115s 134ms/step - loss: 0.0294 - accuracy: 0.9902 - val_loss: 0.0195 - val_accuracy: 0.9942\n",
      "Epoch 3/5\n",
      "860/860 [==============================] - 113s 131ms/step - loss: 0.0216 - accuracy: 0.9930 - val_loss: 0.0261 - val_accuracy: 0.9899\n",
      "Epoch 4/5\n",
      "860/860 [==============================] - 115s 133ms/step - loss: 0.0168 - accuracy: 0.9942 - val_loss: 0.0246 - val_accuracy: 0.9924\n",
      "Epoch 5/5\n",
      "860/860 [==============================] - 114s 133ms/step - loss: 0.0155 - accuracy: 0.9948 - val_loss: 0.0273 - val_accuracy: 0.9920\n",
      "\n",
      "Test:\n",
      "157/157 [==============================] - 3s 16ms/step - loss: 0.0299 - accuracy: 0.9906\n"
     ]
    },
    {
     "data": {
      "image/png": "[encoded data removed]",
      "text/plain": [
       "<Figure size 432x288 with 2 Axes>"
      ]
     },
     "metadata": {
      "needs_background": "light",
      "tags": []
     },
     "output_type": "display_data"
    }
   ],
   "source": [
    "cnn = models.Sequential()\n",
    "cnn.add(layers.Conv2D(64,(3,3), strides=1, dilation_rate=1, activation = 'relu', input_shape = (28,28,1)))\n",
    "cnn.add(BatchNormalization())\n",
    "cnn.add(layers.MaxPooling2D((2,2)))\n",
    "cnn.add(BatchNormalization())\n",
    "cnn.add(layers.Conv2D(64,(3,3), strides=1, dilation_rate=1, activation = 'relu'))\n",
    "cnn.add(BatchNormalization())\n",
    "cnn.add(layers.Dropout(0.5))\n",
    "cnn.add(layers.Flatten())\n",
    "cnn.add(layers.Dense(64,activation='relu',kernel_initializer='he_normal'))\n",
    "cnn.add(layers.Dense(32,activation='relu',kernel_initializer='he_normal'))\n",
    "cnn.add(layers.Dense(16,activation='relu',kernel_initializer='he_normal'))\n",
    "cnn.add(layers.Dense(2,activation='sigmoid'))\n",
    "cnn.summary()\n",
    "\n",
    "cnn.compile(optimizer=best_opt, loss='binary_crossentropy', metrics=['accuracy'])\n",
    "train_results = cnn.fit(train_images, train_labels_oddeven, epochs=5\n",
    "                  , batch_size=64, validation_data=(val_images,val_labels_oddeven))\n",
    "print('\\nTest:')\n",
    "test_loss, test_accuracy = cnn.evaluate(test_images, test_labels_oddeven)\n",
    "GetLossAccuracyPlot()"
   ]
  },
  {
   "cell_type": "markdown",
   "metadata": {
    "id": "xeGOJTFGkOLm"
   },
   "source": [
    "####Adding layer normalization"
   ]
  },
  {
   "cell_type": "code",
   "execution_count": 23,
   "metadata": {
    "colab": {
     "base_uri": "https://localhost:8080/",
     "height": 1000
    },
    "id": "q6vkG_ugeX8W",
    "outputId": "f7592d1d-4cdb-4955-a149-e62df180c804"
   },
   "outputs": [
    {
     "name": "stdout",
     "output_type": "stream",
     "text": [
      "Model: \"sequential_22\"\n",
      "_________________________________________________________________\n",
      "Layer (type)                 Output Shape              Param #   \n",
      "=================================================================\n",
      "conv2d_45 (Conv2D)           (None, 26, 26, 64)        640       \n",
      "_________________________________________________________________\n",
      "layer_normalization (LayerNo (None, 26, 26, 64)        52        \n",
      "_________________________________________________________________\n",
      "max_pooling2d_23 (MaxPooling (None, 13, 13, 64)        0         \n",
      "_________________________________________________________________\n",
      "conv2d_46 (Conv2D)           (None, 11, 11, 64)        36928     \n",
      "_________________________________________________________________\n",
      "layer_normalization_1 (Layer (None, 11, 11, 64)        22        \n",
      "_________________________________________________________________\n",
      "dropout_22 (Dropout)         (None, 11, 11, 64)        0         \n",
      "_________________________________________________________________\n",
      "flatten_22 (Flatten)         (None, 7744)              0         \n",
      "_________________________________________________________________\n",
      "dense_86 (Dense)             (None, 64)                495680    \n",
      "_________________________________________________________________\n",
      "dense_87 (Dense)             (None, 32)                2080      \n",
      "_________________________________________________________________\n",
      "dense_88 (Dense)             (None, 16)                528       \n",
      "_________________________________________________________________\n",
      "dense_89 (Dense)             (None, 2)                 34        \n",
      "=================================================================\n",
      "Total params: 535,964\n",
      "Trainable params: 535,964\n",
      "Non-trainable params: 0\n",
      "_________________________________________________________________\n",
      "Epoch 1/5\n",
      "860/860 [==============================] - 146s 170ms/step - loss: 0.0851 - accuracy: 0.9706 - val_loss: 0.0363 - val_accuracy: 0.9884\n",
      "Epoch 2/5\n",
      "860/860 [==============================] - 146s 170ms/step - loss: 0.0379 - accuracy: 0.9877 - val_loss: 0.0261 - val_accuracy: 0.9920\n",
      "Epoch 3/5\n",
      "860/860 [==============================] - 148s 172ms/step - loss: 0.0282 - accuracy: 0.9902 - val_loss: 0.0268 - val_accuracy: 0.9922\n",
      "Epoch 4/5\n",
      "860/860 [==============================] - 147s 171ms/step - loss: 0.0223 - accuracy: 0.9924 - val_loss: 0.0276 - val_accuracy: 0.9912\n",
      "Epoch 5/5\n",
      "860/860 [==============================] - 147s 171ms/step - loss: 0.0189 - accuracy: 0.9939 - val_loss: 0.0240 - val_accuracy: 0.9928\n",
      "\n",
      "Test:\n",
      "157/157 [==============================] - 4s 24ms/step - loss: 0.0272 - accuracy: 0.9916\n"
     ]
    },
    {
     "data": {
      "image/png": "[encoded data removed]",
      "text/plain": [
       "<Figure size 432x288 with 2 Axes>"
      ]
     },
     "metadata": {
      "needs_background": "light",
      "tags": []
     },
     "output_type": "display_data"
    }
   ],
   "source": [
    "cnn = models.Sequential()\n",
    "cnn.add(layers.Conv2D(64,(3,3), strides=1, dilation_rate=1, activation = 'relu', input_shape = (28,28,1)))\n",
    "cnn.add(LayerNormalization(axis=1 , center=True , scale=True))\n",
    "cnn.add(layers.MaxPooling2D((2,2)))\n",
    "cnn.add(layers.Conv2D(64,(3,3), strides=1, dilation_rate=1, activation = 'relu'))\n",
    "cnn.add(LayerNormalization(axis=1 , center=True , scale=True))\n",
    "cnn.add(layers.Dropout(0.5))\n",
    "cnn.add(layers.Flatten())\n",
    "cnn.add(layers.Dense(64,activation='relu',kernel_initializer='he_normal'))\n",
    "cnn.add(layers.Dense(32,activation='relu',kernel_initializer='he_normal'))\n",
    "cnn.add(layers.Dense(16,activation='relu',kernel_initializer='he_normal'))\n",
    "cnn.add(layers.Dense(2,activation='sigmoid'))\n",
    "cnn.summary()\n",
    "\n",
    "cnn.compile(optimizer=best_opt, loss='binary_crossentropy', metrics=['accuracy'])\n",
    "train_results = cnn.fit(train_images, train_labels_oddeven, epochs=5\n",
    "                  , batch_size=64, validation_data=(val_images,val_labels_oddeven))\n",
    "print('\\nTest:')\n",
    "test_loss, test_accuracy = cnn.evaluate(test_images, test_labels_oddeven)\n",
    "GetLossAccuracyPlot()"
   ]
  },
  {
   "cell_type": "markdown",
   "metadata": {
    "id": "fU3aKN0uSbUI"
   },
   "source": [
    "####Changing the epochs"
   ]
  },
  {
   "cell_type": "code",
   "execution_count": 24,
   "metadata": {
    "colab": {
     "base_uri": "https://localhost:8080/"
    },
    "id": "ATq1h3dCSa9Q",
    "outputId": "668ea105-1441-4351-f33a-59f463bcc9f0"
   },
   "outputs": [
    {
     "name": "stdout",
     "output_type": "stream",
     "text": [
      "epoch =  10\n",
      "Model: \"sequential_23\"\n",
      "_________________________________________________________________\n",
      "Layer (type)                 Output Shape              Param #   \n",
      "=================================================================\n",
      "conv2d_47 (Conv2D)           (None, 26, 26, 64)        640       \n",
      "_________________________________________________________________\n",
      "max_pooling2d_24 (MaxPooling (None, 13, 13, 64)        0         \n",
      "_________________________________________________________________\n",
      "conv2d_48 (Conv2D)           (None, 11, 11, 64)        36928     \n",
      "_________________________________________________________________\n",
      "dropout_23 (Dropout)         (None, 11, 11, 64)        0         \n",
      "_________________________________________________________________\n",
      "flatten_23 (Flatten)         (None, 7744)              0         \n",
      "_________________________________________________________________\n",
      "dense_90 (Dense)             (None, 64)                495680    \n",
      "_________________________________________________________________\n",
      "dense_91 (Dense)             (None, 32)                2080      \n",
      "_________________________________________________________________\n",
      "dense_92 (Dense)             (None, 16)                528       \n",
      "_________________________________________________________________\n",
      "dense_93 (Dense)             (None, 2)                 34        \n",
      "=================================================================\n",
      "Total params: 535,890\n",
      "Trainable params: 535,890\n",
      "Non-trainable params: 0\n",
      "_________________________________________________________________\n",
      "Epoch 1/10\n",
      "860/860 [==============================] - 80s 93ms/step - loss: 0.0731 - accuracy: 0.9730 - val_loss: 0.0264 - val_accuracy: 0.9911\n",
      "Epoch 2/10\n",
      "860/860 [==============================] - 80s 93ms/step - loss: 0.0275 - accuracy: 0.9906 - val_loss: 0.0199 - val_accuracy: 0.9935\n",
      "Epoch 3/10\n",
      "860/860 [==============================] - 80s 93ms/step - loss: 0.0200 - accuracy: 0.9932 - val_loss: 0.0179 - val_accuracy: 0.9940\n",
      "Epoch 4/10\n",
      "860/860 [==============================] - 80s 93ms/step - loss: 0.0147 - accuracy: 0.9948 - val_loss: 0.0181 - val_accuracy: 0.9941\n",
      "Epoch 5/10\n",
      "860/860 [==============================] - 80s 93ms/step - loss: 0.0118 - accuracy: 0.9963 - val_loss: 0.0168 - val_accuracy: 0.9951\n",
      "Epoch 6/10\n",
      "860/860 [==============================] - 80s 93ms/step - loss: 0.0105 - accuracy: 0.9960 - val_loss: 0.0201 - val_accuracy: 0.9938\n",
      "Epoch 7/10\n",
      "860/860 [==============================] - 85s 99ms/step - loss: 0.0094 - accuracy: 0.9966 - val_loss: 0.0242 - val_accuracy: 0.9937\n",
      "Epoch 8/10\n",
      "860/860 [==============================] - 80s 93ms/step - loss: 0.0076 - accuracy: 0.9973 - val_loss: 0.0176 - val_accuracy: 0.9949\n",
      "Epoch 9/10\n",
      "860/860 [==============================] - 80s 93ms/step - loss: 0.0067 - accuracy: 0.9976 - val_loss: 0.0186 - val_accuracy: 0.9951\n",
      "Epoch 10/10\n",
      "860/860 [==============================] - 80s 93ms/step - loss: 0.0057 - accuracy: 0.9980 - val_loss: 0.0302 - val_accuracy: 0.9917\n",
      "\n",
      "Test:\n",
      "157/157 [==============================] - 2s 14ms/step - loss: 0.0378 - accuracy: 0.9910\n",
      "epoch =  15\n",
      "Model: \"sequential_24\"\n",
      "_________________________________________________________________\n",
      "Layer (type)                 Output Shape              Param #   \n",
      "=================================================================\n",
      "conv2d_49 (Conv2D)           (None, 26, 26, 64)        640       \n",
      "_________________________________________________________________\n",
      "max_pooling2d_25 (MaxPooling (None, 13, 13, 64)        0         \n",
      "_________________________________________________________________\n",
      "conv2d_50 (Conv2D)           (None, 11, 11, 64)        36928     \n",
      "_________________________________________________________________\n",
      "dropout_24 (Dropout)         (None, 11, 11, 64)        0         \n",
      "_________________________________________________________________\n",
      "flatten_24 (Flatten)         (None, 7744)              0         \n",
      "_________________________________________________________________\n",
      "dense_94 (Dense)             (None, 64)                495680    \n",
      "_________________________________________________________________\n",
      "dense_95 (Dense)             (None, 32)                2080      \n",
      "_________________________________________________________________\n",
      "dense_96 (Dense)             (None, 16)                528       \n",
      "_________________________________________________________________\n",
      "dense_97 (Dense)             (None, 2)                 34        \n",
      "=================================================================\n",
      "Total params: 535,890\n",
      "Trainable params: 535,890\n",
      "Non-trainable params: 0\n",
      "_________________________________________________________________\n",
      "Epoch 1/15\n",
      "860/860 [==============================] - 81s 94ms/step - loss: 0.0705 - accuracy: 0.9737 - val_loss: 0.0244 - val_accuracy: 0.9923\n",
      "Epoch 2/15\n",
      "860/860 [==============================] - 81s 94ms/step - loss: 0.0295 - accuracy: 0.9902 - val_loss: 0.0203 - val_accuracy: 0.9939\n",
      "Epoch 3/15\n",
      "860/860 [==============================] - 81s 94ms/step - loss: 0.0224 - accuracy: 0.9921 - val_loss: 0.0156 - val_accuracy: 0.9955\n",
      "Epoch 4/15\n",
      "860/860 [==============================] - 81s 94ms/step - loss: 0.0186 - accuracy: 0.9936 - val_loss: 0.0205 - val_accuracy: 0.9934\n",
      "Epoch 5/15\n",
      "860/860 [==============================] - 81s 94ms/step - loss: 0.0150 - accuracy: 0.9950 - val_loss: 0.0204 - val_accuracy: 0.9940\n",
      "Epoch 6/15\n",
      "860/860 [==============================] - 81s 94ms/step - loss: 0.0137 - accuracy: 0.9950 - val_loss: 0.0158 - val_accuracy: 0.9950\n",
      "Epoch 7/15\n",
      "860/860 [==============================] - 80s 93ms/step - loss: 0.0113 - accuracy: 0.9963 - val_loss: 0.0147 - val_accuracy: 0.9943\n",
      "Epoch 8/15\n",
      "860/860 [==============================] - 80s 93ms/step - loss: 0.0106 - accuracy: 0.9963 - val_loss: 0.0183 - val_accuracy: 0.9942\n",
      "Epoch 9/15\n",
      "860/860 [==============================] - 80s 93ms/step - loss: 0.0091 - accuracy: 0.9968 - val_loss: 0.0226 - val_accuracy: 0.9938\n",
      "Epoch 10/15\n",
      "860/860 [==============================] - 80s 92ms/step - loss: 0.0096 - accuracy: 0.9967 - val_loss: 0.0200 - val_accuracy: 0.9946\n",
      "Epoch 11/15\n",
      "860/860 [==============================] - 80s 93ms/step - loss: 0.0077 - accuracy: 0.9975 - val_loss: 0.0224 - val_accuracy: 0.9939\n",
      "Epoch 12/15\n",
      "860/860 [==============================] - 80s 93ms/step - loss: 0.0072 - accuracy: 0.9976 - val_loss: 0.0178 - val_accuracy: 0.9947\n",
      "Epoch 13/15\n",
      "860/860 [==============================] - 81s 94ms/step - loss: 0.0054 - accuracy: 0.9982 - val_loss: 0.0233 - val_accuracy: 0.9938\n",
      "Epoch 14/15\n",
      "860/860 [==============================] - 80s 93ms/step - loss: 0.0060 - accuracy: 0.9978 - val_loss: 0.0245 - val_accuracy: 0.9936\n",
      "Epoch 15/15\n",
      "860/860 [==============================] - 80s 92ms/step - loss: 0.0062 - accuracy: 0.9979 - val_loss: 0.0201 - val_accuracy: 0.9947\n",
      "\n",
      "Test:\n",
      "157/157 [==============================] - 2s 14ms/step - loss: 0.0219 - accuracy: 0.9936\n"
     ]
    }
   ],
   "source": [
    "# epoch ==> 10, 15\n",
    "epoch = [10, 15]\n",
    "for i in range(0,len(epoch)):\n",
    "  print(\"epoch = \", epoch[i])\n",
    "  CNN(optimizer_value = best_opt, weight_initializer = 'he_normal', epoch_value = epoch[i])\n"
   ]
  },
  {
   "cell_type": "markdown",
   "metadata": {
    "id": "qftxGUfqkwb8"
   },
   "source": [
    "#Inference"
   ]
  },
  {
   "cell_type": "code",
   "execution_count": 40,
   "metadata": {
    "colab": {
     "base_uri": "https://localhost:8080/",
     "height": 73,
     "resources": {
      "http://localhost:8080/nbextensions/google.colab/files.js": {
       "data": "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",
       "headers": [
        [
         "content-type",
         "application/javascript"
        ]
       ],
       "ok": true,
       "status": 200,
       "status_text": ""
      }
     }
    },
    "id": "1r2XCjhAk2Dt",
    "outputId": "888a607f-5380-4fed-eb22-6382de2e8c36"
   },
   "outputs": [
    {
     "data": {
      "text/html": [
       "\n",
       "     <input type=\"file\" id=\"files-63b3c485-9ea0-4ac5-8e30-a5caf1cb8ac1\" name=\"files[]\" multiple disabled\n",
       "        style=\"border:none\" />\n",
       "     <output id=\"result-63b3c485-9ea0-4ac5-8e30-a5caf1cb8ac1\">\n",
       "      Upload widget is only available when the cell has been executed in the\n",
       "      current browser session. Please rerun this cell to enable.\n",
       "      </output>\n",
       "      <script src=\"/nbextensions/google.colab/files.js\"></script> "
      ],
      "text/plain": [
       "<IPython.core.display.HTML object>"
      ]
     },
     "metadata": {
      "tags": []
     },
     "output_type": "display_data"
    },
    {
     "name": "stdout",
     "output_type": "stream",
     "text": [
      "Saving 0.jpg to 0.jpg\n"
     ]
    }
   ],
   "source": [
    "#uncomment the next line to upload if needed\n",
    "uploaded = files.upload()\n"
   ]
  },
  {
   "cell_type": "code",
   "execution_count": 41,
   "metadata": {
    "id": "23bvNgOZlAEt"
   },
   "outputs": [],
   "source": [
    "#list of hand written digit images\n",
    "imgs = []\n",
    "imgs.append(cv2.imread(\"0.jpg\"))\n",
    "imgs.append(cv2.imread(\"1.jpg\"))\n",
    "imgs.append(cv2.imread(\"2.jpg\"))\n",
    "imgs.append(cv2.imread(\"3.jpg\"))\n",
    "imgs.append(cv2.imread(\"4.jpg\"))\n",
    "imgs.append(cv2.imread(\"5.jpg\"))\n",
    "imgs.append(cv2.imread(\"6.jpg\"))\n",
    "imgs.append(cv2.imread(\"7.jpg\"))\n",
    "imgs.append(cv2.imread(\"8.jpg\"))\n",
    "imgs.append(cv2.imread(\"9.jpg\"))\n"
   ]
  },
  {
   "cell_type": "code",
   "execution_count": 42,
   "metadata": {
    "id": "gXfuIZ9VlDi8"
   },
   "outputs": [],
   "source": [
    "#function for image processing\n",
    "def GetProcessedImg(img):\n",
    "  #resize and grayscale\n",
    "  processed_img = cv2.cvtColor(cv2.resize(img,(int(28),int(28))),cv2.COLOR_BGR2GRAY).astype('float32') / 255\n",
    "  #get binary image\n",
    "  (threshold,binary_img) = cv2.threshold(processed_img, 0.5, 1, cv2.THRESH_BINARY)\n",
    "  #return final img\n",
    "  return np.where(binary_img==0, 1, 0)\n",
    "\n",
    "#function for predicting labels using last model\n",
    "def GetOddEvenProdiction(img):\n",
    "  binary_img = GetProcessedImg(img)\n",
    "  label = (cnn.predict(binary_img.reshape((1,28, 28, 1)))).argmax(axis=-1)\n",
    "\n",
    "  f, img_array = plt.subplots(1,2)\n",
    "  b,g,r = cv2.split(img)\n",
    "  img = cv2.merge([r,g,b])\n",
    "  img_array[0].imshow(img)\n",
    "  img_array[1].imshow(binary_img, cmap=cm.gray)\n",
    "  plt.show()\n",
    "\n",
    "  if label == 0:\n",
    "    print(\"Digit is EVEN\")\n",
    "  else:\n",
    "    print(\"Digit is ODD\")\n",
    "  print('\\n\\n\\n')\n"
   ]
  },
  {
   "cell_type": "code",
   "execution_count": 43,
   "metadata": {
    "colab": {
     "base_uri": "https://localhost:8080/",
     "height": 1000
    },
    "id": "PZqQMKmrlJqW",
    "outputId": "d9305574-b758-4de6-ebfe-3ac6a45c24b8"
   },
   "outputs": [
    {
     "data": {
      "image/png": "[encoded data removed]",
      "text/plain": [
       "<Figure size 432x288 with 2 Axes>"
      ]
     },
     "metadata": {
      "needs_background": "light",
      "tags": []
     },
     "output_type": "display_data"
    },
    {
     "name": "stdout",
     "output_type": "stream",
     "text": [
      "Digit is ODD\n",
      "\n",
      "\n",
      "\n",
      "\n"
     ]
    },
    {
     "data": {
      "image/png": "[encoded data removed]",
      "text/plain": [
       "<Figure size 432x288 with 2 Axes>"
      ]
     },
     "metadata": {
      "needs_background": "light",
      "tags": []
     },
     "output_type": "display_data"
    },
    {
     "name": "stdout",
     "output_type": "stream",
     "text": [
      "Digit is ODD\n",
      "\n",
      "\n",
      "\n",
      "\n"
     ]
    },
    {
     "data": {
      "image/png": "[encoded data removed]",
      "text/plain": [
       "<Figure size 432x288 with 2 Axes>"
      ]
     },
     "metadata": {
      "needs_background": "light",
      "tags": []
     },
     "output_type": "display_data"
    },
    {
     "name": "stdout",
     "output_type": "stream",
     "text": [
      "Digit is EVEN\n",
      "\n",
      "\n",
      "\n",
      "\n"
     ]
    },
    {
     "data": {
      "image/png": "[encoded data removed]",
      "text/plain": [
       "<Figure size 432x288 with 2 Axes>"
      ]
     },
     "metadata": {
      "needs_background": "light",
      "tags": []
     },
     "output_type": "display_data"
    },
    {
     "name": "stdout",
     "output_type": "stream",
     "text": [
      "Digit is ODD\n",
      "\n",
      "\n",
      "\n",
      "\n"
     ]
    },
    {
     "data": {
      "image/png": "[encoded data removed]",
      "text/plain": [
       "<Figure size 432x288 with 2 Axes>"
      ]
     },
     "metadata": {
      "needs_background": "light",
      "tags": []
     },
     "output_type": "display_data"
    },
    {
     "name": "stdout",
     "output_type": "stream",
     "text": [
      "Digit is EVEN\n",
      "\n",
      "\n",
      "\n",
      "\n"
     ]
    },
    {
     "data": {
      "image/png": "[encoded data removed]",
      "text/plain": [
       "<Figure size 432x288 with 2 Axes>"
      ]
     },
     "metadata": {
      "needs_background": "light",
      "tags": []
     },
     "output_type": "display_data"
    },
    {
     "name": "stdout",
     "output_type": "stream",
     "text": [
      "Digit is ODD\n",
      "\n",
      "\n",
      "\n",
      "\n"
     ]
    },
    {
     "data": {
      "image/png": "[encoded data removed]",
      "text/plain": [
       "<Figure size 432x288 with 2 Axes>"
      ]
     },
     "metadata": {
      "needs_background": "light",
      "tags": []
     },
     "output_type": "display_data"
    },
    {
     "name": "stdout",
     "output_type": "stream",
     "text": [
      "Digit is EVEN\n",
      "\n",
      "\n",
      "\n",
      "\n"
     ]
    },
    {
     "data": {
      "image/png": "[encoded data removed]",
      "text/plain": [
       "<Figure size 432x288 with 2 Axes>"
      ]
     },
     "metadata": {
      "needs_background": "light",
      "tags": []
     },
     "output_type": "display_data"
    },
    {
     "name": "stdout",
     "output_type": "stream",
     "text": [
      "Digit is ODD\n",
      "\n",
      "\n",
      "\n",
      "\n"
     ]
    },
    {
     "data": {
      "image/png": "[encoded data removed]",
      "text/plain": [
       "<Figure size 432x288 with 2 Axes>"
      ]
     },
     "metadata": {
      "needs_background": "light",
      "tags": []
     },
     "output_type": "display_data"
    },
    {
     "name": "stdout",
     "output_type": "stream",
     "text": [
      "Digit is EVEN\n",
      "\n",
      "\n",
      "\n",
      "\n"
     ]
    },
    {
     "data": {
      "image/png": "[encoded data removed]",
      "text/plain": [
       "<Figure size 432x288 with 2 Axes>"
      ]
     },
     "metadata": {
      "needs_background": "light",
      "tags": []
     },
     "output_type": "display_data"
    },
    {
     "name": "stdout",
     "output_type": "stream",
     "text": [
      "Digit is ODD\n",
      "\n",
      "\n",
      "\n",
      "\n"
     ]
    }
   ],
   "source": [
    "#predict odd/even labels\n",
    "for i in range(0,len(imgs)):\n",
    "  GetOddEvenProdiction(imgs[i])"
   ]
  },
  {
   "cell_type": "code",
   "execution_count": null,
   "metadata": {
    "id": "YrGcLWKuoIfs"
   },
   "outputs": [],
   "source": []
  }
 ],
 "metadata": {
  "colab": {
   "collapsed_sections": [],
   "name": "Program_A3_Chandni_Patel.ipynb",
   "provenance": []
  },
  "kernelspec": {
   "display_name": "Python 3",
   "language": "python",
   "name": "python3"
  },
  "language_info": {
   "codemirror_mode": {
    "name": "ipython",
    "version": 3
   },
   "file_extension": ".py",
   "mimetype": "text/x-python",
   "name": "python",
   "nbconvert_exporter": "python",
   "pygments_lexer": "ipython3",
   "version": "3.6.5"
  }
 },
 "nbformat": 4,
 "nbformat_minor": 1
}
